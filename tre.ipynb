{
 "cells": [
  {
   "cell_type": "code",
   "execution_count": 2,
   "metadata": {},
   "outputs": [],
   "source": [
    "import math\n",
    "#math.e"
   ]
  },
  {
   "cell_type": "code",
   "execution_count": 3,
   "metadata": {},
   "outputs": [
    {
     "name": "stdout",
     "output_type": "stream",
     "text": [
      "Approssimazione area di parabola\n",
      "0.4050000000000004\n",
      "0.21375000000000036\n",
      "0.14499999999999932\n",
      "0.10968750000000023\n",
      "0.08820000000000014\n",
      "0.0737499999999995\n",
      "0.06336734693877578\n",
      "0.05554687500000024\n",
      "0.04944444444444406\n",
      "\n",
      "\n",
      "Approssimazione area di esponenziale\n",
      "53.20120391230068\n",
      "56.15682635187293\n",
      "57.14203383173035\n",
      "57.63463757165908\n",
      "57.93019981561629\n",
      "58.12724131158776\n",
      "58.267985237281685\n",
      "58.37354318155214\n",
      "58.45564380487361\n"
     ]
    }
   ],
   "source": [
    "import math \n",
    "\n",
    "class Funzione:\n",
    "    #def __init__(self, *args) ???\n",
    "        #e qualche info degli arguments e la funzione\n",
    "        #self.funz=*args\n",
    "    def eval(self,x):\n",
    "        pass\n",
    "    def calc_integrale(self, a, b, m):\n",
    "        h=(a-b)/m\n",
    "        sum=0\n",
    "        for i in range(m):#perchè è superfluo lo zero!\n",
    "            #j=(self.funz(self.a+i*h)) non questo perchè ho self.eval che mi gestisce la funzione!\n",
    "            sum= sum+self.eval(a+i*h)\n",
    "        return sum*h\n",
    "class Parabola(Funzione):\n",
    "    def eval(self,x):\n",
    "        return ((x**2)+2*x)\n",
    "\n",
    "class Esponenziale(Funzione):\n",
    "    def eval(self,x):\n",
    "        return (math.e)**2*x\n",
    "\n",
    "parab1=Parabola()\n",
    "#int1=parab1.calc_integrale(0,3,1000)\n",
    "#print(\"Integrale:\", int1)\n",
    "integrals=[parab1.calc_integrale(0,3,x) for x in range(10, 100, 10)]\n",
    "print(\"Approssimazione area di parabola\")\n",
    "for i in integrals:\n",
    "    print(i)\n",
    "print(\"\\n\")\n",
    "\n",
    "exp1=Esponenziale()\n",
    "#int2=exp1.calc_integrale(0,3,1000)\n",
    "#print(\"Integrale di exp\", int2)\n",
    "integrals=[exp1.calc_integrale(0,4,x) for x in range(10,100,10)]\n",
    "print(\"Approssimazione area di esponenziale\")\n",
    "for i in integrals:\n",
    "    print(i)"
   ]
  },
  {
   "cell_type": "code",
   "execution_count": null,
   "metadata": {},
   "outputs": [],
   "source": []
  }
 ],
 "metadata": {
  "kernelspec": {
   "display_name": "Python 3.8.10 64-bit",
   "language": "python",
   "name": "python3"
  },
  "language_info": {
   "codemirror_mode": {
    "name": "ipython",
    "version": 3
   },
   "file_extension": ".py",
   "mimetype": "text/x-python",
   "name": "python",
   "nbconvert_exporter": "python",
   "pygments_lexer": "ipython3",
   "version": "3.8.10"
  },
  "orig_nbformat": 4,
  "vscode": {
   "interpreter": {
    "hash": "916dbcbb3f70747c44a77c7bcd40155683ae19c65e1c03b4aa3499c5328201f1"
   }
  }
 },
 "nbformat": 4,
 "nbformat_minor": 2
}
